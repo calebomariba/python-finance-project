


%matplotlib inline
%config InlineBackend.figure_format = "retina"


# import matplotlib.pyplot as plt
# import seaborn as sns

# import warnings
# from pandas.core.common import SettingWithCopyWarning
# warnings.simplefilter(action="ignore", category=FutureWarning)
# warnings.simplefilter(action="ignore", category=SettingWithCopyWarning)

# # feel free to modify, for example, change the context to "notebook"
# sns.set_theme(context="talk", style="whitegrid", 
#               palette="colorblind", color_codes=True, 
#               rc={"figure.figsize": [12, 8]})


import matplotlib.pyplot as plt
import seaborn as sns
import pandas as pd  # Import pandas for pd.options
import warnings

# Instead of importing SettingWithCopyWarning directly, use pd.options.mode.chained_assignment
# to control the warning behavior.
pd.options.mode.chained_assignment = None  # This will silence the warning

warnings.simplefilter(action="ignore", category=FutureWarning)
# warnings.simplefilter(action="ignore", category=SettingWithCopyWarning)  # No longer needed

# feel free to modify, for example, change the context to "notebook"
sns.set_theme(context="talk", style="whitegrid", 
              palette="colorblind", color_codes=True, 
              rc={"figure.figsize": [12, 8]})











import pandas as pd 
import yfinance as yf
import talib





df = yf.download("IBM", 
                 start="2020-01-01", 
                 end="2020-12-31",
                 progress=False,
                 auto_adjust=True)
df


# Flatten MultiIndex column names
df.columns = [col[0] for col in df.columns]

# Check the new column names
print(df.columns)






df["sma_20"] = talib.SMA(df["Close"], timeperiod=20)
(
    df[["Close", "sma_20"]]
    .plot(title="20-day Simple Moving Average (SMA)")
)

sns.despine()
plt.tight_layout()
# plt.savefig("images/figure_5_1", dpi=200)





df["bb_up"], df["bb_mid"], df["bb_low"] = talib.BBANDS(df["Close"])

fig, ax = plt.subplots()

(
    df.loc[:, ["Close", "bb_up", "bb_mid", "bb_low"]]
    .plot(ax=ax, title="Bollinger Bands")
)

ax.fill_between(df.index, df["bb_low"], df["bb_up"], 
                color="gray", 
                alpha=.4)

sns.despine()
plt.tight_layout()
# plt.savefig("images/figure_5_2", dpi=200)





df["rsi"] = talib.RSI(df["Close"])

fig, ax = plt.subplots()
df["rsi"].plot(ax=ax, 
               title="Relative Strength Index (RSI)")
ax.hlines(y=30, 
          xmin=df.index.min(), 
          xmax=df.index.max(), 
          color="red")
ax.hlines(y=70, 
          xmin=df.index.min(), 
          xmax=df.index.max(), 
          color="red")

sns.despine()
plt.tight_layout()
# plt.savefig("images/figure_5_3", dpi=200)





df["macd"], df["macdsignal"], df["macdhist"] = talib.MACD(
    df["Close"], fastperiod=12, slowperiod=26, signalperiod=9
)

with sns.plotting_context("notebook"):
    fig, ax = plt.subplots(2, 1, sharex=True)

    (
        df[["macd", "macdsignal"]].
        plot(ax=ax[0],
             title="Moving Average Convergence Divergence (MACD)")
    )
    ax[1].bar(df.index, df["macdhist"].values, label="macd_hist")
    ax[1].legend()

    sns.despine()
    plt.tight_layout()
    # plt.savefig("images/figure_5_4", dpi=200)









from ta import add_all_ta_features





df = df[["Open", "High", "Low", "Close", "Volume"]].copy()





df = add_all_ta_features(df, open="Open", high="High",
                        low="Low", close="Close",
                        volume="Volume"
                        )


df.head()


df.shape


df.columns











from alpha_vantage.techindicators import TechIndicators


ta_api = TechIndicators(key="YOUR_KEY_HERE", 
                        output_format="pandas")





rsi_df, rsi_meta = ta_api.get_rsi(symbol="IBM", 
                                  time_period=14)





fig, ax = plt.subplots()
rsi_df.plot(ax=ax, 
            title="RSI downloaded from Alpha Vantage")
ax.hlines(y=30, 
          xmin=rsi_df.index.min(), 
          xmax=rsi_df.index.max(), 
          color="red")
ax.hlines(y=70, 
          xmin=rsi_df.index.min(), 
          xmax=rsi_df.index.max(), 
          color="red")

sns.despine()
plt.tight_layout()
# plt.savefig("images/figure_5_5", dpi=200)


rsi_df





rsi_meta








import intrinio_sdk as intrinio
import pandas as pd





# API_KEY ="OmEzYTIwMzAyZWY1ZjhmODNjMjViYWQ4MDJlYmQ4ZjBh"


intrinio.ApiClient().set_api_key("OmEzYTIwMzAyZWY1ZjhmODNjMjViYWQ4MDJlYmQ4ZjBh") 
security_api = intrinio.SecurityApi()





r = security_api.get_security_price_technicals_macd(
    identifier="IBM", 
    fast_period=12, 
    slow_period=26, 
    signal_period=9, 
    price_key="close", 
    start_date="2020-01-01", 
    end_date="2020-12-31",
    page_size=500
)





macd_df = (
    pd.DataFrame(r.technicals_dict)
    .sort_values("date_time")
    .set_index("date_time")
)
macd_df.index = pd.to_datetime(macd_df.index).date
macd_df





with sns.plotting_context("notebook"):
    
    fig, ax = plt.subplots(2, 1, sharex=True)

    (
        macd_df[["macd_line", "signal_line"]]
        .plot(ax=ax[0], 
              title="MACD downloaded from Intrinio")
    )
    ax[1].bar(df.index, macd_df["macd_histogram"].values, 
              label="macd_hist")
    ax[1].legend()

    sns.despine()
    plt.tight_layout()
    # plt.savefig("images/figure_5_6", dpi=200)











import pandas as pd 
import yfinance as yf
import talib
import mplfinance as mpf





df = yf.download("BTC-USD", 
                 period="6mo",
                 interval="1h",
                 progress=False)
df


df.info()


# Flatten MultiIndex column names
df.columns = [col[0] for col in df.columns]

# Check the new column names
print(df.columns)






df["3_line_strike"] = talib.CDL3LINESTRIKE(
    df["Open"], df["High"], df["Low"], df["Close"]
)


df





df[df["3_line_strike"] == -100].head().round(2)


print(df["2024-08-30 05:00:00":"2024-08-30 16:00:00"])



mpf.plot(df["2024-08-30 05:00:00":"2024-08-30 16:00:00"], 
         type="candle")





df[df["3_line_strike"] == 100].head().round(2)


mpf.plot(df["2024-07-04 10:00:00":"2024-07-04 23:00:00"], 
         type="candle")








candle_names = talib.get_function_groups()["Pattern Recognition"]





for candle in candle_names:
    df[candle] = getattr(talib, candle)(df["Open"], df["High"], 
                                        df["Low"], df["Close"])





with pd.option_context("display.max_rows", len(candle_names)):
    display(df[candle_names].describe().transpose().round(2))





df[df["CDLEVENINGSTAR"]  == -100].head()


mpf.plot(df["2024-07-07 10:00:00":"2024-07-07 23:00:00"], type="candle")


print(df.columns)
print(type(df.columns))




